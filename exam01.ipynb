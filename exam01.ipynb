{
 "cells": [
  {
   "cell_type": "code",
   "execution_count": 1,
   "id": "045f3798",
   "metadata": {},
   "outputs": [],
   "source": [
    "u = [2, 2] \n",
    "v = [1, 2]\n",
    "z = [-3,5]"
   ]
  },
  {
   "cell_type": "code",
   "execution_count": 2,
   "id": "dadc4851",
   "metadata": {},
   "outputs": [],
   "source": [
    "result = []"
   ]
  },
  {
   "cell_type": "code",
   "execution_count": 3,
   "id": "5762f782",
   "metadata": {},
   "outputs": [],
   "source": [
    "for i in range(len(u)):\n",
    " result.append(u[i] + v[i] + z[i])"
   ]
  },
  {
   "cell_type": "code",
   "execution_count": 4,
   "id": "0cbc2cfe",
   "metadata": {},
   "outputs": [
    {
     "name": "stdout",
     "output_type": "stream",
     "text": [
      "[0, 9]\n"
     ]
    }
   ],
   "source": [
    "print(result)"
   ]
  },
  {
   "cell_type": "code",
   "execution_count": 5,
   "id": "1da1e19a",
   "metadata": {},
   "outputs": [],
   "source": [
    "result = [sum(t) for t in zip(u, v, z)]\n"
   ]
  },
  {
   "cell_type": "code",
   "execution_count": 6,
   "id": "11397119",
   "metadata": {},
   "outputs": [
    {
     "name": "stdout",
     "output_type": "stream",
     "text": [
      "[0, 9]\n"
     ]
    }
   ],
   "source": [
    "print(result)"
   ]
  },
  {
   "cell_type": "code",
   "execution_count": 7,
   "id": "446e3b20",
   "metadata": {},
   "outputs": [],
   "source": [
    "import numpy as np"
   ]
  },
  {
   "cell_type": "code",
   "execution_count": 8,
   "id": "65926ecc",
   "metadata": {},
   "outputs": [],
   "source": [
    "nu = np.array([2,2])\n",
    "nv = np.array([1,2])\n",
    "nz = np.array([-3,5])"
   ]
  },
  {
   "cell_type": "code",
   "execution_count": 9,
   "id": "1592b5a5",
   "metadata": {},
   "outputs": [
    {
     "name": "stdout",
     "output_type": "stream",
     "text": [
      "[0 9]\n"
     ]
    }
   ],
   "source": [
    "sum = nu + nv + nz\n",
    "print(sum)"
   ]
  },
  {
   "cell_type": "code",
   "execution_count": 10,
   "id": "8feefa63",
   "metadata": {},
   "outputs": [],
   "source": [
    "u = [ 1, 2, 3 ]\n",
    "v = [ 4, 3, 3 ]\n",
    "alpha = 2"
   ]
  },
  {
   "cell_type": "code",
   "execution_count": 11,
   "id": "00eaaba3",
   "metadata": {},
   "outputs": [],
   "source": [
    "del sum"
   ]
  },
  {
   "cell_type": "code",
   "execution_count": 12,
   "id": "72e028f1",
   "metadata": {},
   "outputs": [
    {
     "name": "stdout",
     "output_type": "stream",
     "text": [
      "[10, 10, 12]\n"
     ]
    }
   ],
   "source": [
    "result = [alpha * sum(t) for t in zip(u, v)]\n",
    "print(result)"
   ]
  },
  {
   "cell_type": "code",
   "execution_count": 13,
   "id": "a931800e",
   "metadata": {},
   "outputs": [
    {
     "name": "stdout",
     "output_type": "stream",
     "text": [
      "[10 10 12]\n"
     ]
    }
   ],
   "source": [
    "nu = np.array([1,2,3])\n",
    "nv = np.array([4,3,3])\n",
    "alpha = 2\n",
    "result = (nu + nv ) * alpha\n",
    "print(result)"
   ]
  },
  {
   "cell_type": "code",
   "execution_count": 14,
   "id": "51f25ee5",
   "metadata": {},
   "outputs": [],
   "source": [
    "matrix_a = [[3, 6], [4, 5]]\n",
    "matrix_b = [[5, 8], [6, 7]]"
   ]
  },
  {
   "cell_type": "code",
   "execution_count": 15,
   "id": "984c32af",
   "metadata": {},
   "outputs": [
    {
     "name": "stdout",
     "output_type": "stream",
     "text": [
      "[[8, 14], [10, 12]]\n"
     ]
    }
   ],
   "source": [
    "result = [[sum(row) for row in zip(*t)] for t in zip(matrix_a,matrix_b)]\n",
    "print(result)"
   ]
  },
  {
   "cell_type": "code",
   "execution_count": 77,
   "id": "c239ba2a",
   "metadata": {},
   "outputs": [
    {
     "name": "stdout",
     "output_type": "stream",
     "text": [
      "[1, 2, 3] [5, 8]\n",
      "[4, 5, 6] [6, 7]\n"
     ]
    }
   ],
   "source": [
    "for t in zip(matrix_a,matrix_b):\n",
    "    print(*t)"
   ]
  },
  {
   "cell_type": "code",
   "execution_count": null,
   "id": "6695d836",
   "metadata": {},
   "outputs": [],
   "source": [
    "nmatrix_a = np.array ([[3,6], [4,5]])\n",
    "nmatrix_b = np.array ([[5,8], [6,7]])\n",
    "\n",
    "result = nmatrix_a + nmatrix_b\n",
    "print(result)"
   ]
  },
  {
   "cell_type": "code",
   "execution_count": 70,
   "id": "2c1ae31c",
   "metadata": {},
   "outputs": [
    {
     "name": "stdout",
     "output_type": "stream",
     "text": [
      "[[1 4]\n",
      " [2 5]\n",
      " [3 6]]\n"
     ]
    }
   ],
   "source": [
    "matrix_a = ([[1,2,3] , [4,5,6]])\n",
    "c = np.transpose(matrix_a, (1,0))\n",
    "print(c)\n"
   ]
  },
  {
   "cell_type": "code",
   "execution_count": 72,
   "id": "4354351c",
   "metadata": {},
   "outputs": [],
   "source": [
    "matrix_a = [[1,2,3], [4,5,6]]"
   ]
  },
  {
   "cell_type": "code",
   "execution_count": 76,
   "id": "49348786",
   "metadata": {},
   "outputs": [
    {
     "name": "stdout",
     "output_type": "stream",
     "text": [
      "[[1, 4], [2, 5], [3, 6]]\n"
     ]
    }
   ],
   "source": [
    "def transpose(matrix):\n",
    "    rows = []\n",
    "    trans_matrix = []\n",
    "    nrows = len(matrix_a)\n",
    "    ncols = len(matirx_a[0])\n",
    "               \n",
    "    for i in range(ncols):\n",
    "        for j in range(nrows):\n",
    "            rows.append(matrix[j][i])\n",
    "        trans_matrix.append(rows)\n",
    "        rows = []\n",
    "                \n",
    "    return trans_matrix\n",
    "print(transpose(matrix_a))"
   ]
  }
 ],
 "metadata": {
  "kernelspec": {
   "display_name": "Python 3",
   "language": "python",
   "name": "python3"
  },
  "language_info": {
   "codemirror_mode": {
    "name": "ipython",
    "version": 3
   },
   "file_extension": ".py",
   "mimetype": "text/x-python",
   "name": "python",
   "nbconvert_exporter": "python",
   "pygments_lexer": "ipython3",
   "version": "3.7.10"
  }
 },
 "nbformat": 4,
 "nbformat_minor": 5
}
