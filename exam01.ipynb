{
 "cells": [
  {
   "cell_type": "code",
   "execution_count": 1,
   "id": "045f3798",
   "metadata": {},
   "outputs": [],
   "source": [
    "u = [2, 2] \n",
    "v = [1, 2]\n",
    "z = [-3,5]"
   ]
  },
  {
   "cell_type": "code",
   "execution_count": 2,
   "id": "dadc4851",
   "metadata": {},
   "outputs": [],
   "source": [
    "result = []"
   ]
  },
  {
   "cell_type": "code",
   "execution_count": 3,
   "id": "5762f782",
   "metadata": {},
   "outputs": [],
   "source": [
    "for i in range(len(u)):\n",
    " result.append(u[i] + v[i] + z[i])"
   ]
  },
  {
   "cell_type": "code",
   "execution_count": 4,
   "id": "0cbc2cfe",
   "metadata": {},
   "outputs": [
    {
     "name": "stdout",
     "output_type": "stream",
     "text": [
      "[0, 9]\n"
     ]
    }
   ],
   "source": [
    "print(result)"
   ]
  },
  {
   "cell_type": "code",
   "execution_count": 5,
   "id": "1da1e19a",
   "metadata": {},
   "outputs": [],
   "source": [
    "result = [sum(t) for t in zip(u, v, z)]\n"
   ]
  },
  {
   "cell_type": "code",
   "execution_count": 6,
   "id": "11397119",
   "metadata": {},
   "outputs": [
    {
     "name": "stdout",
     "output_type": "stream",
     "text": [
      "[0, 9]\n"
     ]
    }
   ],
   "source": [
    "print(result)"
   ]
  },
  {
   "cell_type": "code",
   "execution_count": 7,
   "id": "145f8696",
   "metadata": {},
   "outputs": [],
   "source": [
    "import numpy as np"
   ]
  },
  {
   "cell_type": "code",
   "execution_count": 8,
   "id": "e5bf429c",
   "metadata": {},
   "outputs": [],
   "source": [
    "nu = np.array([2,2])\n",
    "nv = np.array([1,2])\n",
    "nz = np.array([-3,5])"
   ]
  },
  {
   "cell_type": "code",
   "execution_count": 9,
   "id": "fd2bd482",
   "metadata": {},
   "outputs": [
    {
     "name": "stdout",
     "output_type": "stream",
     "text": [
      "[0 9]\n"
     ]
    }
   ],
   "source": [
    "sum = nu + nv + nz\n",
    "print(sum)"
   ]
  },
  {
   "cell_type": "code",
   "execution_count": 10,
   "id": "bc4bcb04",
   "metadata": {},
   "outputs": [],
   "source": [
    "u = [ 1, 2, 3 ]\n",
    "v = [ 4, 3, 3 ]\n",
    "alpha = 2"
   ]
  },
  {
   "cell_type": "code",
   "execution_count": 11,
   "id": "03725b72",
   "metadata": {},
   "outputs": [],
   "source": [
    "del sum"
   ]
  },
  {
   "cell_type": "code",
   "execution_count": 13,
   "id": "3307a540",
   "metadata": {},
   "outputs": [
    {
     "name": "stdout",
     "output_type": "stream",
     "text": [
      "[10, 10, 12]\n"
     ]
    }
   ],
   "source": [
    "result = [alpha * sum(t) for t in zip(u, v)]\n",
    "print(result)"
   ]
  },
  {
   "cell_type": "code",
   "execution_count": 14,
   "id": "3146681b",
   "metadata": {},
   "outputs": [
    {
     "name": "stdout",
     "output_type": "stream",
     "text": [
      "[10 10 12]\n"
     ]
    }
   ],
   "source": [
    "nu = np.array([1,2,3])\n",
    "nv = np.array([4,3,3])\n",
    "alpha = 2\n",
    "result = (nu + nv ) * alpha\n",
    "print(result)"
   ]
  }
 ],
 "metadata": {
  "kernelspec": {
   "display_name": "Python 3",
   "language": "python",
   "name": "python3"
  },
  "language_info": {
   "codemirror_mode": {
    "name": "ipython",
    "version": 3
   },
   "file_extension": ".py",
   "mimetype": "text/x-python",
   "name": "python",
   "nbconvert_exporter": "python",
   "pygments_lexer": "ipython3",
   "version": "3.7.10"
  }
 },
 "nbformat": 4,
 "nbformat_minor": 5
}
